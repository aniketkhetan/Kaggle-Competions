{
 "cells": [
  {
   "cell_type": "markdown",
   "metadata": {},
   "source": [
    "# Naive Bayes "
   ]
  },
  {
   "cell_type": "code",
   "execution_count": 9,
   "metadata": {},
   "outputs": [],
   "source": [
    "import pandas as pd\n",
    "import numpy as np\n",
    "from sklearn.preprocessing import LabelEncoder\n",
    "from sklearn.model_selection import train_test_split, cross_val_score,cross_val_predict\n",
    "from sklearn import metrics\n",
    "from sklearn.naive_bayes import GaussianNB"
   ]
  },
  {
   "cell_type": "code",
   "execution_count": 10,
   "metadata": {},
   "outputs": [],
   "source": [
    "#Creating Evaluation function\n",
    "def Report(y_test,y_pred):\n",
    "    print('Accuracy Score:',metrics.accuracy_score(y_test,y_pred))\n",
    "    print('Precision Score:',metrics.precision_score(y_test,y_pred))\n",
    "    print('Recall Score:',metrics.recall_score(y_test,y_pred))\n",
    "    print('F1 Score:',metrics.f1_score(y_test,y_pred))\n",
    "    print('Confusion Matrix:',metrics.confusion_matrix(y_test,y_pred))\n",
    "    print('Classification Report:',metrics.classification_report(y_test,y_pred))"
   ]
  },
  {
   "cell_type": "code",
   "execution_count": 11,
   "metadata": {},
   "outputs": [],
   "source": [
    "df = pd.read_csv('train.csv')\n",
    "df_test = pd.read_csv('test.csv')"
   ]
  },
  {
   "cell_type": "code",
   "execution_count": 12,
   "metadata": {},
   "outputs": [
    {
     "data": {
      "text/plain": [
       "PassengerId    0\n",
       "Survived       0\n",
       "Pclass         0\n",
       "Name           0\n",
       "Sex            0\n",
       "Age            0\n",
       "SibSp          0\n",
       "Parch          0\n",
       "Ticket         0\n",
       "Fare           0\n",
       "Cabin          0\n",
       "Embarked       0\n",
       "dtype: int64"
      ]
     },
     "execution_count": 12,
     "metadata": {},
     "output_type": "execute_result"
    }
   ],
   "source": [
    "#Handling Training Missing Values\n",
    "df.isna().sum()\n",
    "df['Age'].fillna(df['Age'].mean(), axis=0,inplace=True)\n",
    "df['Cabin'].fillna(df['Cabin'].value_counts().idxmax(),axis=0 ,inplace=True)\n",
    "df.dropna(subset='Embarked',how='any',axis=0, inplace=True)\n",
    "df.isna().sum()"
   ]
  },
  {
   "cell_type": "code",
   "execution_count": 13,
   "metadata": {},
   "outputs": [
    {
     "data": {
      "text/plain": [
       "PassengerId    0\n",
       "Pclass         0\n",
       "Name           0\n",
       "Sex            0\n",
       "Age            0\n",
       "SibSp          0\n",
       "Parch          0\n",
       "Ticket         0\n",
       "Fare           0\n",
       "Cabin          0\n",
       "Embarked       0\n",
       "dtype: int64"
      ]
     },
     "execution_count": 13,
     "metadata": {},
     "output_type": "execute_result"
    }
   ],
   "source": [
    "#Handling Test Missing Values\n",
    "df_test.isna().sum()\n",
    "df_test['Age'].fillna(df_test['Age'].mean(), axis=0,inplace=True)\n",
    "df_test['Cabin'].fillna(df_test['Cabin'].value_counts().idxmax(),axis=0 ,inplace=True)\n",
    "df_test['Fare'].fillna(df_test['Fare'].mean(), axis=0,inplace=True)\n",
    "df_test.isna().sum()"
   ]
  },
  {
   "cell_type": "code",
   "execution_count": 18,
   "metadata": {},
   "outputs": [],
   "source": [
    "#Convert categorical variable into indicator variables\n",
    "label_encoder = LabelEncoder()\n",
    "#train data \n",
    "df['Sex'] = label_encoder.fit_transform(df['Sex'])\n",
    "df['Embarked'] = label_encoder.fit_transform(df['Embarked'])\n",
    "df['Cabin'] = label_encoder.fit_transform(df['Cabin'])\n",
    "df['Ticket'] = label_encoder.fit_transform(df['Ticket'])\n",
    "\n",
    "#test data \n",
    "df_test['Sex'] = label_encoder.fit_transform(df_test['Sex'])\n",
    "df_test['Embarked'] = label_encoder.fit_transform(df_test['Embarked'])\n",
    "df_test['Cabin'] = label_encoder.fit_transform(df_test['Cabin']) \n",
    "df_test['Ticket'] = label_encoder.fit_transform(df_test['Ticket']) "
   ]
  },
  {
   "cell_type": "code",
   "execution_count": 19,
   "metadata": {},
   "outputs": [],
   "source": [
    "#training data \n",
    "\n",
    "train_label = df['Survived']\n",
    "train_data = df.drop(['Survived','Name','PassengerId'],axis=1)\n",
    "\n",
    "\n",
    "\n",
    "#test data\n",
    "\n",
    "test_data = df_test.drop(['Name','PassengerId'],axis=1)"
   ]
  },
  {
   "cell_type": "code",
   "execution_count": 20,
   "metadata": {},
   "outputs": [],
   "source": [
    "gnb = GaussianNB()\n",
    "gnb.fit(train_data,train_label)\n",
    "gnb_pred = gnb.predict(test_data)"
   ]
  },
  {
   "cell_type": "code",
   "execution_count": 21,
   "metadata": {},
   "outputs": [],
   "source": [
    "gnb_pred = pd.DataFrame(gnb_pred,index=df_test['PassengerId'],columns=['Survived'])"
   ]
  },
  {
   "cell_type": "code",
   "execution_count": 23,
   "metadata": {},
   "outputs": [
    {
     "data": {
      "text/plain": [
       "Survived\n",
       "0           231\n",
       "1           187\n",
       "Name: count, dtype: int64"
      ]
     },
     "execution_count": 23,
     "metadata": {},
     "output_type": "execute_result"
    }
   ],
   "source": [
    "gnb_pred.value_counts()"
   ]
  },
  {
   "cell_type": "markdown",
   "metadata": {},
   "source": [
    "## Evaluating Model by creating test split from train.csv"
   ]
  },
  {
   "cell_type": "code",
   "execution_count": 24,
   "metadata": {},
   "outputs": [],
   "source": [
    "x_train,x_test,y_train,y_test = train_test_split(train_data,train_label,test_size=0.2,random_state=1)"
   ]
  },
  {
   "cell_type": "code",
   "execution_count": 25,
   "metadata": {},
   "outputs": [
    {
     "name": "stdout",
     "output_type": "stream",
     "text": [
      "Accuracy Score: 0.7921348314606742\n",
      "Precision Score: 0.7727272727272727\n",
      "Recall Score: 0.6986301369863014\n",
      "F1 Score: 0.7338129496402879\n",
      "Confusion Matrix: [[90 15]\n",
      " [22 51]]\n",
      "Classification Report:               precision    recall  f1-score   support\n",
      "\n",
      "           0       0.80      0.86      0.83       105\n",
      "           1       0.77      0.70      0.73        73\n",
      "\n",
      "    accuracy                           0.79       178\n",
      "   macro avg       0.79      0.78      0.78       178\n",
      "weighted avg       0.79      0.79      0.79       178\n",
      "\n"
     ]
    }
   ],
   "source": [
    "gnbc = GaussianNB()\n",
    "gnbc.fit(x_train,y_train)\n",
    "y_pred = gnbc.predict(x_test)\n",
    "Report(y_test,y_pred)"
   ]
  },
  {
   "cell_type": "code",
   "execution_count": null,
   "metadata": {},
   "outputs": [],
   "source": []
  }
 ],
 "metadata": {
  "kernelspec": {
   "display_name": "Python 3",
   "language": "python",
   "name": "python3"
  },
  "language_info": {
   "codemirror_mode": {
    "name": "ipython",
    "version": 3
   },
   "file_extension": ".py",
   "mimetype": "text/x-python",
   "name": "python",
   "nbconvert_exporter": "python",
   "pygments_lexer": "ipython3",
   "version": "3.9.6"
  }
 },
 "nbformat": 4,
 "nbformat_minor": 2
}
